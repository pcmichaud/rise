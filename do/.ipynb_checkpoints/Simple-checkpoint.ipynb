{
 "cells": [
  {
   "cell_type": "markdown",
   "metadata": {},
   "source": [
    "# Stylized Solution"
   ]
  },
  {
   "cell_type": "markdown",
   "metadata": {},
   "source": [
    "The bottom line of this exercice is that with simple functional form, effects are highly sensitive and will depend on what we assume about form of $L(z,m)$. Given we estimate in the complex model, we do not pursue this anymore in paper. "
   ]
  },
  {
   "cell_type": "code",
   "execution_count": 257,
   "metadata": {},
   "outputs": [],
   "source": [
    "import numpy as np"
   ]
  },
  {
   "cell_type": "markdown",
   "metadata": {},
   "source": [
    "Health production given by:"
   ]
  },
  {
   "cell_type": "markdown",
   "metadata": {},
   "source": [
    "$$ L(z,m) = L_{\\min} + z\\log(m) $$"
   ]
  },
  {
   "cell_type": "markdown",
   "metadata": {},
   "source": [
    "Flow utility given by:"
   ]
  },
  {
   "cell_type": "markdown",
   "metadata": {},
   "source": [
    "$$ u(c) = b + \\frac{c^{1-\\sigma}}{1-\\sigma} $$"
   ]
  },
  {
   "cell_type": "markdown",
   "metadata": {},
   "source": [
    "The objective function is :"
   ]
  },
  {
   "cell_type": "markdown",
   "metadata": {},
   "source": [
    "$$ v(z,m) = L(z,m)u(y-m) $$"
   ]
  },
  {
   "cell_type": "markdown",
   "metadata": {},
   "source": [
    "Start with data (see Historical.ipynb for details)"
   ]
  },
  {
   "cell_type": "code",
   "execution_count": 258,
   "metadata": {},
   "outputs": [],
   "source": [
    "ex = [45.03999999999999, 51.44]\n",
    "m = [1031.5678807421896, 5370.477966101695]\n",
    "mm = m\n",
    "\n",
    "y = [21459.0, 50380.75]\n",
    "yy = y"
   ]
  },
  {
   "cell_type": "code",
   "execution_count": 259,
   "metadata": {},
   "outputs": [
    {
     "data": {
      "text/plain": [
       "[1031.5678807421896, 5370.477966101695]"
      ]
     },
     "execution_count": 259,
     "metadata": {},
     "output_type": "execute_result"
    }
   ],
   "source": [
    "mm"
   ]
  },
  {
   "cell_type": "markdown",
   "metadata": {},
   "source": [
    "Half the gain in remaining life expectancy due to other factors, compute Lmin"
   ]
  },
  {
   "cell_type": "code",
   "execution_count": 260,
   "metadata": {},
   "outputs": [
    {
     "data": {
      "text/plain": [
       "(6.400000000000006, 3.200000000000003, [43, 46.2])"
      ]
     },
     "execution_count": 260,
     "metadata": {},
     "output_type": "execute_result"
    }
   ],
   "source": [
    "gain = ex[1] - ex[0]\n",
    "other = gain*0.5\n",
    "Lmin = [42,42+other]\n",
    "(gain,other,Lmin)"
   ]
  },
  {
   "cell_type": "code",
   "execution_count": 261,
   "metadata": {},
   "outputs": [
    {
     "data": {
      "text/plain": [
       "([0.2939974735508767, 0.6101059493153599], 0.018419113640609996)"
      ]
     },
     "execution_count": 261,
     "metadata": {},
     "output_type": "execute_result"
    }
   ],
   "source": [
    "z = [0,0]\n",
    "for s in [0,1]:\n",
    "    z[s] = (ex[s] - Lmin[s])/np.log(mm[s])\n",
    "(z,(z[1]/z[0])**(1.0/40.0)-1.0)"
   ]
  },
  {
   "cell_type": "markdown",
   "metadata": {},
   "source": [
    "The FOC for $m$ is given by :\n",
    "$$ z/m (b + \\frac{(y-m)^{1-\\sigma}}{1-\\sigma}) - (L_{\\min} + z\\log(m))(y-m)^{-\\sigma} = 0 $$"
   ]
  },
  {
   "cell_type": "code",
   "execution_count": 262,
   "metadata": {},
   "outputs": [],
   "source": [
    "import scipy.optimize as sp\n",
    "def foc(pars):\n",
    "    b = pars[0]\n",
    "    sigma = pars[1]\n",
    "    f = [0.0,0.0]\n",
    "    for s in [0,1]:\n",
    "        f[s] = z[s]/mm[s]*(b + ((y[s] - mm[s])**(1.0-sigma))/(1.0-sigma)) - (Lmin[s] + z[s]*np.log(mm[s]))*((yy[s]-mm[s])**(-sigma))\n",
    "    return f\n"
   ]
  },
  {
   "cell_type": "code",
   "execution_count": 263,
   "metadata": {},
   "outputs": [
    {
     "data": {
      "text/plain": [
       "[8.455232324217131e-56, 13.976433540416206]"
      ]
     },
     "execution_count": 263,
     "metadata": {},
     "output_type": "execute_result"
    }
   ],
   "source": [
    "opt = sp.root(foc, [0.3, 1.4]) \n",
    "b = opt.x[0]\n",
    "sigma = opt.x[1]\n",
    "[b,sigma]"
   ]
  },
  {
   "cell_type": "code",
   "execution_count": 264,
   "metadata": {},
   "outputs": [],
   "source": [
    "def value(m,b,sigma,zz,inc,lmin):\n",
    "    return -(lmin + zz*np.log(m))*(b + ((inc - m)**(1.0-sigma))/(1.0-sigma))"
   ]
  },
  {
   "cell_type": "code",
   "execution_count": 273,
   "metadata": {},
   "outputs": [
    {
     "name": "stdout",
     "output_type": "stream",
     "text": [
      "Optimization terminated successfully.\n",
      "         Current function value: -0.000000\n",
      "         Iterations: 35\n",
      "         Function evaluations: 72\n",
      "[24584.16278843]\n"
     ]
    }
   ],
   "source": [
    "opt = sp.fmin(value,m[0],args=(b,sigma,z[0],yy[1],Lmin[0]))\n",
    "print(opt)\n",
    "table = m\n",
    "table.append(opt[0])"
   ]
  },
  {
   "cell_type": "code",
   "execution_count": 271,
   "metadata": {},
   "outputs": [
    {
     "name": "stdout",
     "output_type": "stream",
     "text": [
      "Optimization terminated successfully.\n",
      "         Current function value: -0.000000\n",
      "         Iterations: 24\n",
      "         Function evaluations: 48\n",
      "[1379.29419466]\n"
     ]
    }
   ],
   "source": [
    "opt = sp.fmin(value,m[0],args=(b,sigma,z[1],yy[0],Lmin[1]))\n",
    "print(opt)\n",
    "table.append(opt[0])"
   ]
  },
  {
   "cell_type": "code",
   "execution_count": 267,
   "metadata": {},
   "outputs": [],
   "source": [
    "table.append((m[1] - m[0]) - (m[2]-m[0]) -  (m[3]-m[0]))"
   ]
  },
  {
   "cell_type": "code",
   "execution_count": 268,
   "metadata": {},
   "outputs": [],
   "source": [
    "labs = ['1965','2005','income','tech','complementarity']"
   ]
  },
  {
   "cell_type": "code",
   "execution_count": 269,
   "metadata": {},
   "outputs": [
    {
     "data": {
      "text/html": [
       "<div>\n",
       "<style scoped>\n",
       "    .dataframe tbody tr th:only-of-type {\n",
       "        vertical-align: middle;\n",
       "    }\n",
       "\n",
       "    .dataframe tbody tr th {\n",
       "        vertical-align: top;\n",
       "    }\n",
       "\n",
       "    .dataframe thead th {\n",
       "        text-align: right;\n",
       "    }\n",
       "</style>\n",
       "<table border=\"1\" class=\"dataframe\">\n",
       "  <thead>\n",
       "    <tr style=\"text-align: right;\">\n",
       "      <th></th>\n",
       "      <th>scenario</th>\n",
       "      <th>spending</th>\n",
       "    </tr>\n",
       "  </thead>\n",
       "  <tbody>\n",
       "    <tr>\n",
       "      <th>0</th>\n",
       "      <td>1965</td>\n",
       "      <td>1031.567881</td>\n",
       "    </tr>\n",
       "    <tr>\n",
       "      <th>1</th>\n",
       "      <td>2005</td>\n",
       "      <td>5370.477966</td>\n",
       "    </tr>\n",
       "    <tr>\n",
       "      <th>2</th>\n",
       "      <td>income</td>\n",
       "      <td>24584.162788</td>\n",
       "    </tr>\n",
       "    <tr>\n",
       "      <th>3</th>\n",
       "      <td>tech</td>\n",
       "      <td>1379.294195</td>\n",
       "    </tr>\n",
       "    <tr>\n",
       "      <th>4</th>\n",
       "      <td>complementarity</td>\n",
       "      <td>-19561.411136</td>\n",
       "    </tr>\n",
       "  </tbody>\n",
       "</table>\n",
       "</div>"
      ],
      "text/plain": [
       "          scenario      spending\n",
       "0             1965   1031.567881\n",
       "1             2005   5370.477966\n",
       "2           income  24584.162788\n",
       "3             tech   1379.294195\n",
       "4  complementarity -19561.411136"
      ]
     },
     "execution_count": 269,
     "metadata": {},
     "output_type": "execute_result"
    }
   ],
   "source": [
    "import pandas as pd\n",
    "tab = pd.DataFrame(data={'scenario': labs,'spending': table})\n",
    "tab = tab[['scenario','spending']]\n",
    "tab"
   ]
  },
  {
   "cell_type": "code",
   "execution_count": null,
   "metadata": {},
   "outputs": [],
   "source": []
  },
  {
   "cell_type": "code",
   "execution_count": null,
   "metadata": {},
   "outputs": [],
   "source": []
  },
  {
   "cell_type": "code",
   "execution_count": null,
   "metadata": {},
   "outputs": [],
   "source": []
  },
  {
   "cell_type": "code",
   "execution_count": null,
   "metadata": {},
   "outputs": [],
   "source": []
  }
 ],
 "metadata": {
  "kernelspec": {
   "display_name": "Python 3",
   "language": "python",
   "name": "python3"
  },
  "language_info": {
   "codemirror_mode": {
    "name": "ipython",
    "version": 3
   },
   "file_extension": ".py",
   "mimetype": "text/x-python",
   "name": "python",
   "nbconvert_exporter": "python",
   "pygments_lexer": "ipython3",
   "version": "3.6.4"
  }
 },
 "nbformat": 4,
 "nbformat_minor": 2
}
